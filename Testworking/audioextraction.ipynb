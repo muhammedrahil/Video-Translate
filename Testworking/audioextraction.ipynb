{
 "cells": [
  {
   "cell_type": "code",
   "execution_count": 1,
   "metadata": {},
   "outputs": [
    {
     "name": "stdout",
     "output_type": "stream",
     "text": [
      "\n",
      "ffmpeg version N-116796-gb730defd52-20240830 Copyright (c) 2000-2024 the FFmpeg developers\n",
      "  built with gcc 14.2.0 (crosstool-NG 1.26.0.106_ed12fa6)\n",
      "  configuration: --prefix=/ffbuild/prefix --pkg-config-flags=--static --pkg-config=pkg-config --cross-prefix=x86_64-w64-mingw32- --arch=x86_64 --target-os=mingw32 --enable-gpl --enable-version3 --disable-debug --disable-w32threads --enable-pthreads --enable-iconv --enable-zlib --enable-libfreetype --enable-libfribidi --enable-gmp --enable-libxml2 --enable-lzma --enable-fontconfig --enable-libharfbuzz --enable-libvorbis --enable-opencl --disable-libpulse --enable-libvmaf --disable-libxcb --disable-xlib --enable-amf --enable-libaom --enable-libaribb24 --enable-avisynth --enable-chromaprint --enable-libdav1d --enable-libdavs2 --enable-libdvdread --enable-libdvdnav --disable-libfdk-aac --enable-ffnvcodec --enable-cuda-llvm --enable-frei0r --enable-libgme --enable-libkvazaar --enable-libaribcaption --enable-libass --enable-libbluray --enable-libjxl --enable-libmp3lame --enable-libopus --enable-librist --enable-libssh --enable-libtheora --enable-libvpx --enable-libwebp --enable-libzmq --enable-lv2 --enable-libvpl --enable-openal --enable-libopencore-amrnb --enable-libopencore-amrwb --enable-libopenh264 --enable-libopenjpeg --enable-libopenmpt --enable-librav1e --enable-librubberband --enable-schannel --enable-sdl2 --enable-libsoxr --enable-libsrt --enable-libsvtav1 --enable-libtwolame --enable-libuavs3d --disable-libdrm --enable-vaapi --enable-libvidstab --enable-vulkan --enable-libshaderc --enable-libplacebo --enable-libvvenc --enable-libx264 --enable-libx265 --enable-libxavs2 --enable-libxvid --enable-libzimg --enable-libzvbi --extra-cflags=-DLIBTWOLAME_STATIC --extra-cxxflags= --extra-libs=-lgomp --extra-ldflags=-pthread --extra-ldexeflags= --cc=x86_64-w64-mingw32-gcc --cxx=x86_64-w64-mingw32-g++ --ar=x86_64-w64-mingw32-gcc-ar --ranlib=x86_64-w64-mingw32-gcc-ranlib --nm=x86_64-w64-mingw32-gcc-nm --extra-version=20240830\n",
      "  libavutil      59. 35.100 / 59. 35.100\n",
      "  libavcodec     61. 11.100 / 61. 11.100\n",
      "  libavformat    61.  5.101 / 61.  5.101\n",
      "  libavdevice    61.  2.100 / 61.  2.100\n",
      "  libavfilter    10.  2.102 / 10.  2.102\n",
      "  libswscale      8.  2.100 /  8.  2.100\n",
      "  libswresample   5.  2.100 /  5.  2.100\n",
      "  libpostproc    58.  2.100 / 58.  2.100\n",
      "Input #0, matroska,webm, from 'Movie.mkv':\n",
      "  Metadata:\n",
      "    title           : www.1TamilBlasters.mov\n",
      "    encoder         : libebml v1.4.5 + libmatroska v1.7.1\n",
      "    creation_time   : 2024-08-22T18:58:17.000000Z\n",
      "  Duration: 02:23:44.13, start: 0.000000, bitrate: 1575 kb/s\n",
      "  Stream #0:0: Video: h264 (High), yuv420p(tv, bt709, progressive), 1280x528 [SAR 99:100 DAR 12:5], SAR 528:533 DAR 1280:533, 24 fps, 24 tbr, 1k tbn (default)\n",
      "      Metadata:\n",
      "        title           : www.1TamilBlasters.mov\n",
      "        BPS             : 1253298\n",
      "        DURATION        : 02:23:44.125000000\n",
      "        NUMBER_OF_FRAMES: 206979\n",
      "        NUMBER_OF_BYTES : 1351075857\n",
      "        _STATISTICS_WRITING_APP: mkvmerge v85.0 ('Shame For You') 64-bit\n",
      "        _STATISTICS_WRITING_DATE_UTC: 2024-08-22 18:58:17\n",
      "        _STATISTICS_TAGS: BPS DURATION NUMBER_OF_FRAMES NUMBER_OF_BYTES\n",
      "  Stream #0:1(tam): Audio: ac3, 48000 Hz, 5.1(side), fltp, 192 kb/s (default)\n",
      "      Metadata:\n",
      "        title           : www.1TamilBlasters.mov - DD5.1(192Kbps)\n",
      "        BPS             : 192000\n",
      "        DURATION        : 02:23:44.128000000\n",
      "        NUMBER_OF_FRAMES: 269504\n",
      "        NUMBER_OF_BYTES : 206979072\n",
      "        _STATISTICS_WRITING_APP: mkvmerge v85.0 ('Shame For You') 64-bit\n",
      "        _STATISTICS_WRITING_DATE_UTC: 2024-08-22 18:58:17\n",
      "        _STATISTICS_TAGS: BPS DURATION NUMBER_OF_FRAMES NUMBER_OF_BYTES\n",
      "  Stream #0:2(tam): Audio: aac (LC), 48000 Hz, stereo, fltp (default)\n",
      "      Metadata:\n",
      "        title           : www.1TamilBlasters.mov - AAC\n",
      "        BPS             : 128000\n",
      "        DURATION        : 02:23:44.106000000\n",
      "        NUMBER_OF_FRAMES: 404255\n",
      "        NUMBER_OF_BYTES : 137986073\n",
      "        _STATISTICS_WRITING_APP: mkvmerge v85.0 ('Shame For You') 64-bit\n",
      "        _STATISTICS_WRITING_DATE_UTC: 2024-08-22 18:58:17\n",
      "        _STATISTICS_TAGS: BPS DURATION NUMBER_OF_FRAMES NUMBER_OF_BYTES\n",
      "  Stream #0:3(eng): Subtitle: subrip (srt) (default)\n",
      "      Metadata:\n",
      "        title           : www.1TamilBlasters.mov\n",
      "        BPS             : 58\n",
      "        DURATION        : 02:19:26.010000000\n",
      "        NUMBER_OF_FRAMES: 2009\n",
      "        NUMBER_OF_BYTES : 60879\n",
      "        _STATISTICS_WRITING_APP: mkvmerge v85.0 ('Shame For You') 64-bit\n",
      "        _STATISTICS_WRITING_DATE_UTC: 2024-08-22 18:58:17\n",
      "        _STATISTICS_TAGS: BPS DURATION NUMBER_OF_FRAMES NUMBER_OF_BYTES\n",
      "  Stream #0:4: Video: png, rgba(pc, gbr/unknown/unknown), 201x85 [SAR 3780:3780 DAR 201:85], 90k tbr, 90k tbn (attached pic)\n",
      "      Metadata:\n",
      "        filename        : TBL.png\n",
      "        mimetype        : image/png\n",
      "[out#0/mp3 @ 000001867afeecc0] Codec AVOption preset (Encoding preset) has not been used for any stream. The most likely reason is either wrong type (e.g. a video option with no video streams) or that it is a private option of some decoder which was not actually used for any stream.\n",
      "Stream mapping:\n",
      "  Stream #0:2 -> #0:0 (aac (native) -> mp3 (libmp3lame))\n",
      "Press [q] to stop, [?] for help\n",
      "Output #0, mp3, to 'movie_audio2872.mp3':\n",
      "  Metadata:\n",
      "    TIT2            : www.1TamilBlasters.mov\n",
      "    TSSE            : Lavf61.5.101\n",
      "  Stream #0:0(tam): Audio: mp3, 48000 Hz, stereo, fltp (default)\n",
      "      Metadata:\n",
      "        title           : www.1TamilBlasters.mov - AAC\n",
      "        BPS             : 128000\n",
      "        DURATION        : 02:23:44.106000000\n",
      "        NUMBER_OF_FRAMES: 404255\n",
      "        NUMBER_OF_BYTES : 137986073\n",
      "        _STATISTICS_WRITING_APP: mkvmerge v85.0 ('Shame For You') 64-bit\n",
      "        _STATISTICS_WRITING_DATE_UTC: 2024-08-22 18:58:17\n",
      "        _STATISTICS_TAGS: BPS DURATION NUMBER_OF_FRAMES NUMBER_OF_BYTES\n",
      "        encoder         : Lavc61.11.100 libmp3lame\n",
      "[matroska,webm @ 000001867afbf780] File extends beyond end of segment. \n",
      "[out#0/mp3 @ 000001867afeecc0] video:0KiB audio:246358KiB subtitle:0KiB other streams:0KiB global headers:0KiB muxing overhead: 0.000107%\n",
      "size=  246358KiB time=02:23:44.10 bitrate= 234.0kbits/s speed=  53x    \n",
      "\n"
     ]
    }
   ],
   "source": [
    "import subprocess\n",
    "\n",
    "def extract_audio_ffmpeg(video_path, output_audio_path):\n",
    "    # FFmpeg command to extract audio\n",
    "    command = [\n",
    "        'ffmpeg',\n",
    "        '-i', video_path,        # Input file\n",
    "        '-q:a', '0',             # Quality flag (0 is the best quality)\n",
    "        '-map', '0:2',     \n",
    "        '-threads', '4',    # Use 4 CPU cores (adjust based on your system)\n",
    "        '-vn',              # No video processing\n",
    "        '-preset', 'fast',  # Use a faster preset (if applicable)    \n",
    "        output_audio_path        # Output file\n",
    "    ]\n",
    "    \n",
    "    # Run the FFmpeg command\n",
    "    result = subprocess.run(command, check=True, stdout=subprocess.PIPE, stderr=subprocess.PIPE)\n",
    "    print(result.stdout.decode())\n",
    "    print(result.stderr.decode())\n",
    "\n",
    "# Example usage\n",
    "# video_path = 'Test.mp4'\n",
    "video_path = 'Movie.mkv'\n",
    "output_audio_path = 'movie_audio2872.mp3'\n",
    "extract_audio_ffmpeg(video_path, output_audio_path)\n"
   ]
  },
  {
   "cell_type": "code",
   "execution_count": 1,
   "metadata": {},
   "outputs": [
    {
     "name": "stdout",
     "output_type": "stream",
     "text": [
      "MoviePy - Writing audio in movie_audio2.wav\n"
     ]
    },
    {
     "name": "stderr",
     "output_type": "stream",
     "text": [
      "                                                                          "
     ]
    },
    {
     "name": "stdout",
     "output_type": "stream",
     "text": [
      "MoviePy - Done.\n"
     ]
    },
    {
     "name": "stderr",
     "output_type": "stream",
     "text": [
      "\r"
     ]
    }
   ],
   "source": [
    "from moviepy.editor import VideoFileClip # this is also use ffmpeg package\n",
    "\n",
    "def extract_audio(video_path, output_audio_path):\n",
    "    # Load the video file\n",
    "    video = VideoFileClip(video_path)\n",
    "    \n",
    "    # Extract audio\n",
    "    audio = video.audio\n",
    "    \n",
    "    # Save the audio to a file\n",
    "    audio.write_audiofile(output_audio_path)\n",
    "    \n",
    "    # Close the video clip\n",
    "    video.close()\n",
    "\n",
    "# Example usage\n",
    "video_path = 'Test.mp4'\n",
    "# output_audio_path = 'extracted_audio1.wav'\n",
    "video_path = 'Movie.mkv'\n",
    "output_audio_path = 'movie_audio2.wav'\n",
    "extract_audio(video_path, output_audio_path)\n"
   ]
  },
  {
   "cell_type": "code",
   "execution_count": null,
   "metadata": {},
   "outputs": [],
   "source": [
    "# moviepy is better"
   ]
  },
  {
   "cell_type": "code",
   "execution_count": 6,
   "metadata": {},
   "outputs": [
    {
     "name": "stderr",
     "output_type": "stream",
     "text": [
      "                                                                    \r"
     ]
    }
   ],
   "source": [
    "import time  # for simulating computing time\n",
    "from proglog import default_bar_logger\n",
    "\n",
    "def my_routine(iterations=10, logger='bar'):\n",
    "    \"\"\"Run several loops to showcase Proglog.\"\"\"\n",
    "    logger = default_bar_logger(logger)  # shorthand to generate a bar logger\n",
    "    for i in logger.iter_bar(iteration=range(iterations)):\n",
    "        for j in logger.iter_bar(animal=['dog', 'cat', 'rat', 'duck']):\n",
    "            time.sleep(0.1)  # simulate some computing time\n",
    "\n",
    "my_routine()"
   ]
  }
 ],
 "metadata": {
  "kernelspec": {
   "display_name": "env",
   "language": "python",
   "name": "python3"
  },
  "language_info": {
   "codemirror_mode": {
    "name": "ipython",
    "version": 3
   },
   "file_extension": ".py",
   "mimetype": "text/x-python",
   "name": "python",
   "nbconvert_exporter": "python",
   "pygments_lexer": "ipython3",
   "version": "3.11.4"
  }
 },
 "nbformat": 4,
 "nbformat_minor": 2
}
