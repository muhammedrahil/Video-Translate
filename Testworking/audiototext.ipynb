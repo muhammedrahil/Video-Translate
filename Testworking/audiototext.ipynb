{
 "cells": [
  {
   "cell_type": "code",
   "execution_count": null,
   "metadata": {},
   "outputs": [],
   "source": [
    "import speech_recognition as sr\n",
    "\n",
    "# Initialize recognizer\n",
    "recognizer = sr.Recognizer()\n",
    "\n",
    "# Load audio file\n",
    "with sr.AudioFile('movie_audio2872.mp3') as source:\n",
    "    audio = recognizer.record(source)\n",
    "\n",
    "# Transcribe audio using Google Web Speech API (default)\n",
    "try:\n",
    "    text = recognizer.recognize_google(audio)\n",
    "    print(\"Transcription: \", text)\n",
    "except sr.UnknownValueError:\n",
    "    print(\"Google Speech Recognition could not understand audio\")\n",
    "except sr.RequestError as e:\n",
    "    print(\"Could not request results from Google Speech Recognition service; {0}\".format(e))\n"
   ]
  }
 ],
 "metadata": {
  "kernelspec": {
   "display_name": "env",
   "language": "python",
   "name": "python3"
  },
  "language_info": {
   "name": "python",
   "version": "3.11.4"
  }
 },
 "nbformat": 4,
 "nbformat_minor": 2
}
